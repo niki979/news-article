{
 "cells": [
  {
   "cell_type": "code",
   "execution_count": 1,
   "id": "9b1accc5",
   "metadata": {},
   "outputs": [],
   "source": [
    "import requests\n",
    "from bs4 import BeautifulSoup\n",
    "import csv"
   ]
  },
  {
   "cell_type": "code",
   "execution_count": 2,
   "id": "16a4e5ba",
   "metadata": {},
   "outputs": [],
   "source": [
    "rows=[[\"title\",\"article\",\"category\"]]"
   ]
  },
  {
   "cell_type": "code",
   "execution_count": 13,
   "id": "206602cc",
   "metadata": {},
   "outputs": [],
   "source": [
    "URL = \"https://newsonair.gov.in/Business-News.aspx\"\n",
    "r = requests.get(URL)\n",
    "  \n",
    "soup = BeautifulSoup(r.content, 'html.parser')\n",
    "#print(soup)\n",
    "\n",
    "newsmain = soup.find(\"div\", id=\"ctl00_ContentPlaceHolder1_AddUserControl_pnlHelloWorld\")\n",
    "news=newsmain.find_all(\"div\",class_=\"space-news-list\")\n",
    "for i in news:\n",
    "    title=i.find(\"h6\").text\n",
    "    #print(title)\n",
    "    article=i.find(\"span\").text\n",
    "    #print(article)\n",
    "    #print()\n",
    "    row=[title,article,\"Business\"]\n",
    "    rows.append(row)"
   ]
  },
  {
   "cell_type": "code",
   "execution_count": 14,
   "id": "73d0dfef",
   "metadata": {},
   "outputs": [
    {
     "data": {
      "text/html": [
       "<div>\n",
       "<style scoped>\n",
       "    .dataframe tbody tr th:only-of-type {\n",
       "        vertical-align: middle;\n",
       "    }\n",
       "\n",
       "    .dataframe tbody tr th {\n",
       "        vertical-align: top;\n",
       "    }\n",
       "\n",
       "    .dataframe thead th {\n",
       "        text-align: right;\n",
       "    }\n",
       "</style>\n",
       "<table border=\"1\" class=\"dataframe\">\n",
       "  <thead>\n",
       "    <tr style=\"text-align: right;\">\n",
       "      <th></th>\n",
       "      <th>title</th>\n",
       "      <th>article</th>\n",
       "      <th>category</th>\n",
       "    </tr>\n",
       "  </thead>\n",
       "  <tbody>\n",
       "    <tr>\n",
       "      <th>0</th>\n",
       "      <td>India’s overall exports in July this year esti...</td>\n",
       "      <td>India’s overall exports in July this year are ...</td>\n",
       "      <td>Business</td>\n",
       "    </tr>\n",
       "    <tr>\n",
       "      <th>1</th>\n",
       "      <td>Gold up by Rs 95; Silver climbs Rs 160\\n</td>\n",
       "      <td>Gold prices today (14 August 2023) rose by 95 ...</td>\n",
       "      <td>Business</td>\n",
       "    </tr>\n",
       "    <tr>\n",
       "      <th>2</th>\n",
       "      <td>Oil steadies as investors weigh concerns about...</td>\n",
       "      <td>Oil prices steadied today (14 August 2023) as ...</td>\n",
       "      <td>Business</td>\n",
       "    </tr>\n",
       "    <tr>\n",
       "      <th>3</th>\n",
       "      <td>Sensex ends 79 points higher to settle at 65,4...</td>\n",
       "      <td>Key domestic benchmark indices ended flat toda...</td>\n",
       "      <td>Business</td>\n",
       "    </tr>\n",
       "    <tr>\n",
       "      <th>4</th>\n",
       "      <td>Rupee closes at Rs 82.94 against US dollar\\n</td>\n",
       "      <td>In the forex market, the rupee closed at 82 ru...</td>\n",
       "      <td>Business</td>\n",
       "    </tr>\n",
       "  </tbody>\n",
       "</table>\n",
       "</div>"
      ],
      "text/plain": [
       "                                               title  \\\n",
       "0  India’s overall exports in July this year esti...   \n",
       "1           Gold up by Rs 95; Silver climbs Rs 160\\n   \n",
       "2  Oil steadies as investors weigh concerns about...   \n",
       "3  Sensex ends 79 points higher to settle at 65,4...   \n",
       "4       Rupee closes at Rs 82.94 against US dollar\\n   \n",
       "\n",
       "                                             article  category  \n",
       "0  India’s overall exports in July this year are ...  Business  \n",
       "1  Gold prices today (14 August 2023) rose by 95 ...  Business  \n",
       "2  Oil prices steadied today (14 August 2023) as ...  Business  \n",
       "3  Key domestic benchmark indices ended flat toda...  Business  \n",
       "4  In the forex market, the rupee closed at 82 ru...  Business  "
      ]
     },
     "execution_count": 14,
     "metadata": {},
     "output_type": "execute_result"
    }
   ],
   "source": [
    "import pandas as pd\n",
    "df=pd.read_csv(\"business.csv\")\n",
    "df.head()"
   ]
  },
  {
   "cell_type": "code",
   "execution_count": 15,
   "id": "178596f2",
   "metadata": {},
   "outputs": [],
   "source": [
    "URL = \"https://www.inshorts.com/en/read/business\"\n",
    "r = requests.get(URL)\n",
    "  \n",
    "soup = BeautifulSoup(r.content, 'html.parser')\n",
    "#print(soup)\n",
    "news = soup.find_all(\"div\", class_=\"news-card z-depth-1\")\n",
    "for i in news:\n",
    "    #print(i)\n",
    "    title=i.find(\"div\", class_=\"news-card-title news-right-box\")\n",
    "    #print(title.text)\n",
    "    article=i.find(\"div\", itemprop=\"articleBody\")\n",
    "    #print(article.text)\n",
    "    #print()\n",
    "    row=[title.text,article.text,\"Business\"]\n",
    "    rows.append(row)"
   ]
  },
  {
   "cell_type": "code",
   "execution_count": 16,
   "id": "f862e568",
   "metadata": {},
   "outputs": [],
   "source": [
    "URL = \"https://www.india.com/business/\"\n",
    "r = requests.get(URL)\n",
    "  \n",
    "soup = BeautifulSoup(r.content, 'html.parser')\n",
    "#print(soup)\n",
    "news = soup.find_all(\"article\", class_=\"repeat-box\")\n",
    "for i in news:\n",
    "    figcaption=i.find(\"figcaption\",class_=\"text\")\n",
    "    if figcaption!=None:\n",
    "        titles=figcaption.find(\"h2\")\n",
    "        if titles!=None:\n",
    "            title=(titles.text)\n",
    "        para=figcaption.findChildren(\"p\")\n",
    "        if len(para)!=0:\n",
    "            article=para[0].text\n",
    "            #print(article\n",
    "        row=[title,article,\"Business\"]\n",
    "        rows.append(row)"
   ]
  },
  {
   "cell_type": "code",
   "execution_count": 17,
   "id": "5a9f51c2",
   "metadata": {},
   "outputs": [],
   "source": [
    "URL = \"https://news.abplive.com/business\"\n",
    "r = requests.get(URL)\n",
    "  \n",
    "soup = BeautifulSoup(r.content, 'html.parser')\n",
    "#print(soup)\n",
    "\n",
    "news = soup.find_all(\"div\", class_=\"other_news\")\n",
    "for i in news:\n",
    "    j=i.findChild(\"a\")\n",
    "    #title=j.find(attrs={\"a\": \"title\"})\n",
    "    title=j['title']\n",
    "    row=[title,\"\",\"Business\"]\n",
    "    rows.append(row)"
   ]
  },
  {
   "cell_type": "code",
   "execution_count": 19,
   "id": "aa3b07d1",
   "metadata": {},
   "outputs": [],
   "source": [
    "URL = \"https://www.indiatvnews.com/business\"\n",
    "r = requests.get(URL)\n",
    "  \n",
    "soup = BeautifulSoup(r.content, 'html.parser')\n",
    "#print(soup)\n",
    "\n",
    "news = soup.find_all(\"li\", class_=\"p_news\")\n",
    "for i in news:\n",
    "    title=i.find(\"h3\",class_=\"title\").text\n",
    "    #print(title)\n",
    "    article=i.find(\"p\",class_=\"dic\").text\n",
    "    #print(article)\n",
    "    #print()\n",
    "    row=[title,article,\"Business\"]\n",
    "    rows.append(row)\n"
   ]
  },
  {
   "cell_type": "code",
   "execution_count": 20,
   "id": "5565714d",
   "metadata": {},
   "outputs": [
    {
     "data": {
      "text/plain": [
       "(435, 3)"
      ]
     },
     "execution_count": 20,
     "metadata": {},
     "output_type": "execute_result"
    }
   ],
   "source": [
    "with open('business.csv', 'a', newline='',encoding='utf-8') as file:\n",
    "     writer = csv.writer(file)\n",
    "     writer.writerows(rows)\n",
    "    \n",
    "import pandas as pd\n",
    "df=pd.read_csv(\"business.csv\")\n",
    "df.head()\n",
    "df.shape"
   ]
  },
  {
   "cell_type": "code",
   "execution_count": null,
   "id": "35623df3",
   "metadata": {},
   "outputs": [],
   "source": []
  }
 ],
 "metadata": {
  "kernelspec": {
   "display_name": "Python 3 (ipykernel)",
   "language": "python",
   "name": "python3"
  },
  "language_info": {
   "codemirror_mode": {
    "name": "ipython",
    "version": 3
   },
   "file_extension": ".py",
   "mimetype": "text/x-python",
   "name": "python",
   "nbconvert_exporter": "python",
   "pygments_lexer": "ipython3",
   "version": "3.11.3"
  }
 },
 "nbformat": 4,
 "nbformat_minor": 5
}
