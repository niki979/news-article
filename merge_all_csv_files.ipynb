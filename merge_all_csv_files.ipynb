{
 "cells": [
  {
   "cell_type": "code",
   "execution_count": 21,
   "id": "4fab9c94",
   "metadata": {},
   "outputs": [],
   "source": [
    "import os\n",
    "import pandas as pd"
   ]
  },
  {
   "cell_type": "code",
   "execution_count": 22,
   "id": "0e1d45ab",
   "metadata": {},
   "outputs": [],
   "source": [
    "folder_path = 'C:\\\\Users\\\\Dell\\\\JupyterNotebook\\\\NewsArticleClassification'\n"
   ]
  },
  {
   "cell_type": "code",
   "execution_count": 23,
   "id": "8d63967b",
   "metadata": {},
   "outputs": [],
   "source": [
    "csv_files = [f for f in os.listdir(folder_path) if f.endswith('.csv')]\n"
   ]
  },
  {
   "cell_type": "code",
   "execution_count": 24,
   "id": "babf98bd",
   "metadata": {},
   "outputs": [],
   "source": [
    "merged_data = pd.DataFrame()\n"
   ]
  },
  {
   "cell_type": "code",
   "execution_count": 25,
   "id": "16782c3f",
   "metadata": {},
   "outputs": [],
   "source": [
    "for csv_file in csv_files:\n",
    "    file_path = os.path.join(folder_path, csv_file)\n",
    "    \n",
    "    data = pd.read_csv(file_path)\n",
    "    \n",
    "    merged_data = pd.concat([merged_data, data], ignore_index=True)"
   ]
  },
  {
   "cell_type": "code",
   "execution_count": 26,
   "id": "8cadc70e",
   "metadata": {},
   "outputs": [],
   "source": [
    "merged_data.to_csv('C:\\\\Users\\\\Dell\\\\JupyterNotebook\\\\NewsArticleClassification\\\\merged_data.csv', index=False)\n"
   ]
  },
  {
   "cell_type": "code",
   "execution_count": null,
   "id": "9b137ecd",
   "metadata": {},
   "outputs": [],
   "source": []
  }
 ],
 "metadata": {
  "kernelspec": {
   "display_name": "Python 3 (ipykernel)",
   "language": "python",
   "name": "python3"
  },
  "language_info": {
   "codemirror_mode": {
    "name": "ipython",
    "version": 3
   },
   "file_extension": ".py",
   "mimetype": "text/x-python",
   "name": "python",
   "nbconvert_exporter": "python",
   "pygments_lexer": "ipython3",
   "version": "3.11.3"
  }
 },
 "nbformat": 4,
 "nbformat_minor": 5
}
