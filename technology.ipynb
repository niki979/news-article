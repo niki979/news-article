{
 "cells": [
  {
   "cell_type": "code",
   "execution_count": 1,
   "id": "2467e0d4",
   "metadata": {},
   "outputs": [],
   "source": [
    "import requests\n",
    "from bs4 import BeautifulSoup\n",
    "import csv"
   ]
  },
  {
   "cell_type": "code",
   "execution_count": 2,
   "id": "755ef543",
   "metadata": {},
   "outputs": [],
   "source": [
    "rows=[[\"title\",\"article\",\"category\"]]"
   ]
  },
  {
   "cell_type": "code",
   "execution_count": 3,
   "id": "f6a67647",
   "metadata": {},
   "outputs": [],
   "source": [
    "URL = \"https://www.inshorts.com/en/read/technology\"\n",
    "r = requests.get(URL)\n",
    "  \n",
    "soup = BeautifulSoup(r.content, 'html.parser')\n",
    "#print(soup)\n",
    "news = soup.find_all(\"div\", class_=\"news-card z-depth-1\")\n",
    "for i in news:\n",
    "    #print(i)\n",
    "    title=i.find(\"div\", class_=\"news-card-title news-right-box\")\n",
    "    #print(title.text)\n",
    "    article=i.find(\"div\", itemprop=\"articleBody\")\n",
    "    #print(article.text)\n",
    "    #print()\n",
    "    row=[title.text,article.text,\"Technology\"]\n",
    "    rows.append(row)"
   ]
  },
  {
   "cell_type": "code",
   "execution_count": 4,
   "id": "c7240c1b",
   "metadata": {},
   "outputs": [
    {
     "ename": "NameError",
     "evalue": "name 'title' is not defined",
     "output_type": "error",
     "traceback": [
      "\u001b[1;31m---------------------------------------------------------------------------\u001b[0m",
      "\u001b[1;31mNameError\u001b[0m                                 Traceback (most recent call last)",
      "Cell \u001b[1;32mIn[4], line 16\u001b[0m\n\u001b[0;32m     14\u001b[0m \u001b[38;5;28;01mif\u001b[39;00m \u001b[38;5;28mlen\u001b[39m(para)\u001b[38;5;241m!=\u001b[39m\u001b[38;5;241m0\u001b[39m:\n\u001b[0;32m     15\u001b[0m     article\u001b[38;5;241m=\u001b[39mpara[\u001b[38;5;241m0\u001b[39m]\u001b[38;5;241m.\u001b[39mtext\n\u001b[1;32m---> 16\u001b[0m row\u001b[38;5;241m=\u001b[39m[title,article,\u001b[38;5;124m\"\u001b[39m\u001b[38;5;124mTechnology\u001b[39m\u001b[38;5;124m\"\u001b[39m]\n\u001b[0;32m     17\u001b[0m rows\u001b[38;5;241m.\u001b[39mappend(row)\n",
      "\u001b[1;31mNameError\u001b[0m: name 'title' is not defined"
     ]
    }
   ],
   "source": [
    "URL = \"https://www.india.com/technology/\"\n",
    "r = requests.get(URL)\n",
    "  \n",
    "soup = BeautifulSoup(r.content, 'html.parser')\n",
    "#print(soup)\n",
    "news = soup.find_all(\"article\", class_=\"repeat-box\")\n",
    "for i in news:\n",
    "    figcaption=i.find(\"figcaption\",class_=\"text\")\n",
    "    if figcaption!=None:\n",
    "        titles=figcaption.find(\"h2\")\n",
    "        if titles!=None:\n",
    "            title=(titles.text)\n",
    "        para=figcaption.findChildren(\"p\")\n",
    "        if len(para)!=0:\n",
    "            article=para[0].text\n",
    "        row=[title,article,\"Technology\"]\n",
    "        rows.append(row)"
   ]
  },
  {
   "cell_type": "code",
   "execution_count": 5,
   "id": "669a0016",
   "metadata": {},
   "outputs": [],
   "source": [
    "URL = \"https://news.abplive.com/technology\"\n",
    "r = requests.get(URL)\n",
    "  \n",
    "soup = BeautifulSoup(r.content, 'html.parser')\n",
    "#print(soup)\n",
    "\n",
    "news = soup.find_all(\"div\", class_=\"other_news\")\n",
    "for i in news:\n",
    "    j=i.findChild(\"a\")\n",
    "    #title=j.find(attrs={\"a\": \"title\"})\n",
    "    title=j['title']\n",
    "    row=[title,\"\",\"Technology\"]\n",
    "    rows.append(row)"
   ]
  },
  {
   "cell_type": "code",
   "execution_count": 6,
   "id": "6791b3ce",
   "metadata": {},
   "outputs": [],
   "source": [
    "URL = \"https://www.indiatvnews.com/technology\"\n",
    "r = requests.get(URL)\n",
    "  \n",
    "soup = BeautifulSoup(r.content, 'html.parser')\n",
    "#print(soup)\n",
    "\n",
    "news = soup.find_all(\"li\", class_=\"p_news\")\n",
    "for i in news:\n",
    "    title=i.find(\"h3\",class_=\"title\").text\n",
    "    #print(title)\n",
    "    article=i.find(\"p\",class_=\"dic\").text\n",
    "    #print(article)\n",
    "    #print()\n",
    "    row=[title,article,\"Technology\"]\n",
    "    rows.append(row)\n"
   ]
  },
  {
   "cell_type": "code",
   "execution_count": 7,
   "id": "33af5aa2",
   "metadata": {},
   "outputs": [
    {
     "data": {
      "text/plain": [
       "(41, 3)"
      ]
     },
     "execution_count": 7,
     "metadata": {},
     "output_type": "execute_result"
    }
   ],
   "source": [
    "with open('tech.csv', 'a', newline='',encoding='utf-8') as file:\n",
    "     writer = csv.writer(file)\n",
    "     writer.writerows(rows)\n",
    "    \n",
    "import pandas as pd\n",
    "df=pd.read_csv(\"tech.csv\")\n",
    "df.head()\n",
    "df.shape"
   ]
  },
  {
   "cell_type": "code",
   "execution_count": null,
   "id": "ee15d717",
   "metadata": {},
   "outputs": [],
   "source": []
  }
 ],
 "metadata": {
  "kernelspec": {
   "display_name": "Python 3 (ipykernel)",
   "language": "python",
   "name": "python3"
  },
  "language_info": {
   "codemirror_mode": {
    "name": "ipython",
    "version": 3
   },
   "file_extension": ".py",
   "mimetype": "text/x-python",
   "name": "python",
   "nbconvert_exporter": "python",
   "pygments_lexer": "ipython3",
   "version": "3.11.3"
  }
 },
 "nbformat": 4,
 "nbformat_minor": 5
}
