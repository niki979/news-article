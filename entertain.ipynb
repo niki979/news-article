{
 "cells": [
  {
   "cell_type": "code",
   "execution_count": 1,
   "id": "7ff58201",
   "metadata": {},
   "outputs": [],
   "source": [
    "import requests\n",
    "from bs4 import BeautifulSoup\n",
    "import csv"
   ]
  },
  {
   "cell_type": "code",
   "execution_count": 2,
   "id": "20c7bb27",
   "metadata": {},
   "outputs": [],
   "source": [
    "rows=[[\"title\",\"article\",\"category\"]]"
   ]
  },
  {
   "cell_type": "code",
   "execution_count": 3,
   "id": "4602ec43",
   "metadata": {},
   "outputs": [],
   "source": [
    "URL = \"https://www.inshorts.com/en/read/entertainment\"\n",
    "r = requests.get(URL)\n",
    "  \n",
    "soup = BeautifulSoup(r.content, 'html.parser')\n",
    "#print(soup)\n",
    "news = soup.find_all(\"div\", class_=\"news-card z-depth-1\")\n",
    "for i in news:\n",
    "    #print(i)\n",
    "    title=i.find(\"div\", class_=\"news-card-title news-right-box\")\n",
    "    #print(title.text)\n",
    "    article=i.find(\"div\", itemprop=\"articleBody\")\n",
    "    #print(article.text)\n",
    "    #print()\n",
    "    row=[title.text,article.text,\"Entertainment\"]\n",
    "    rows.append(row)"
   ]
  },
  {
   "cell_type": "code",
   "execution_count": 9,
   "id": "2f476e9b",
   "metadata": {},
   "outputs": [],
   "source": [
    "URL = \"https://www.india.com/entertainment/\"\n",
    "r = requests.get(URL)\n",
    "  \n",
    "soup = BeautifulSoup(r.content, 'html.parser')\n",
    "#print(soup)\n",
    "news = soup.find_all(\"article\", class_=\"repeat-box\")\n",
    "for i in news:\n",
    "    figcaption=i.find(\"figcaption\",class_=\"text\")\n",
    "    if figcaption!=None:\n",
    "        titles=figcaption.find(\"h2\")\n",
    "        if titles!=None:\n",
    "            title=(titles.text)\n",
    "        para=figcaption.findChildren(\"p\")\n",
    "        if len(para)!=0:\n",
    "            article=para[0].text\n",
    "            #print(article\n",
    "        row=[title,article,\"Entertainment\"]\n",
    "        rows.append(row)"
   ]
  },
  {
   "cell_type": "code",
   "execution_count": 5,
   "id": "47c937db",
   "metadata": {},
   "outputs": [],
   "source": [
    "URL = \"https://news.abplive.com/entertainment\"\n",
    "r = requests.get(URL)\n",
    "  \n",
    "soup = BeautifulSoup(r.content, 'html.parser')\n",
    "#print(soup)\n",
    "\n",
    "news = soup.find_all(\"div\", class_=\"other_news\")\n",
    "for i in news:\n",
    "    j=i.findChild(\"a\")\n",
    "    #title=j.find(attrs={\"a\": \"title\"})\n",
    "    title=j['title']\n",
    "    row=[title,\"\",\"Entertainment\"]\n",
    "    rows.append(row)"
   ]
  },
  {
   "cell_type": "code",
   "execution_count": 6,
   "id": "ccc65241",
   "metadata": {},
   "outputs": [],
   "source": [
    "URL = \"https://www.indiatvnews.com/entertainment\"\n",
    "r = requests.get(URL)\n",
    "  \n",
    "soup = BeautifulSoup(r.content, 'html.parser')\n",
    "#print(soup)\n",
    "\n",
    "news = soup.find_all(\"li\", class_=\"p_news\")\n",
    "for i in news:\n",
    "    title=i.find(\"h3\",class_=\"title\").text\n",
    "    #print(title)\n",
    "    article=i.find(\"p\",class_=\"dic\").text\n",
    "    #print(article)\n",
    "    #print()\n",
    "    row=[title,article,\"Entertainment\"]\n",
    "    rows.append(row)"
   ]
  },
  {
   "cell_type": "code",
   "execution_count": 10,
   "id": "9d5ba005",
   "metadata": {},
   "outputs": [
    {
     "data": {
      "text/plain": [
       "(132, 3)"
      ]
     },
     "execution_count": 10,
     "metadata": {},
     "output_type": "execute_result"
    }
   ],
   "source": [
    "with open('entertainment.csv', 'a', newline='',encoding='utf-8') as file:\n",
    "     writer = csv.writer(file)\n",
    "     writer.writerows(rows)\n",
    "    \n",
    "import pandas as pd\n",
    "df=pd.read_csv(\"entertainment.csv\")\n",
    "df.head()\n",
    "df.shape"
   ]
  },
  {
   "cell_type": "code",
   "execution_count": 11,
   "id": "96539944",
   "metadata": {},
   "outputs": [
    {
     "data": {
      "text/html": [
       "<div>\n",
       "<style scoped>\n",
       "    .dataframe tbody tr th:only-of-type {\n",
       "        vertical-align: middle;\n",
       "    }\n",
       "\n",
       "    .dataframe tbody tr th {\n",
       "        vertical-align: top;\n",
       "    }\n",
       "\n",
       "    .dataframe thead th {\n",
       "        text-align: right;\n",
       "    }\n",
       "</style>\n",
       "<table border=\"1\" class=\"dataframe\">\n",
       "  <thead>\n",
       "    <tr style=\"text-align: right;\">\n",
       "      <th></th>\n",
       "      <th>title</th>\n",
       "      <th>article</th>\n",
       "      <th>category</th>\n",
       "    </tr>\n",
       "  </thead>\n",
       "  <tbody>\n",
       "    <tr>\n",
       "      <th>0</th>\n",
       "      <td>title</td>\n",
       "      <td>article</td>\n",
       "      <td>category</td>\n",
       "    </tr>\n",
       "    <tr>\n",
       "      <th>1</th>\n",
       "      <td>Malaika Arora Fuels Breakup Rumours With Arjun...</td>\n",
       "      <td>NaN</td>\n",
       "      <td>Entertainment</td>\n",
       "    </tr>\n",
       "    <tr>\n",
       "      <th>2</th>\n",
       "      <td>Kriti Sanon Seeks Blessings At Siddhivinayak T...</td>\n",
       "      <td>NaN</td>\n",
       "      <td>Entertainment</td>\n",
       "    </tr>\n",
       "    <tr>\n",
       "      <th>3</th>\n",
       "      <td>Bernie Mardsen Death News: Rock Legend And 'Wh...</td>\n",
       "      <td>NaN</td>\n",
       "      <td>Entertainment</td>\n",
       "    </tr>\n",
       "    <tr>\n",
       "      <th>4</th>\n",
       "      <td>Guns &amp; Gulaabs To Kohra; Check Out These Inten...</td>\n",
       "      <td>NaN</td>\n",
       "      <td>Entertainment</td>\n",
       "    </tr>\n",
       "  </tbody>\n",
       "</table>\n",
       "</div>"
      ],
      "text/plain": [
       "                                               title  article       category\n",
       "0                                              title  article       category\n",
       "1  Malaika Arora Fuels Breakup Rumours With Arjun...      NaN  Entertainment\n",
       "2  Kriti Sanon Seeks Blessings At Siddhivinayak T...      NaN  Entertainment\n",
       "3  Bernie Mardsen Death News: Rock Legend And 'Wh...      NaN  Entertainment\n",
       "4  Guns & Gulaabs To Kohra; Check Out These Inten...      NaN  Entertainment"
      ]
     },
     "execution_count": 11,
     "metadata": {},
     "output_type": "execute_result"
    }
   ],
   "source": [
    "\n",
    "df.head()"
   ]
  },
  {
   "cell_type": "code",
   "execution_count": null,
   "id": "b516e05d",
   "metadata": {},
   "outputs": [],
   "source": []
  },
  {
   "cell_type": "code",
   "execution_count": null,
   "id": "8a3bc07b",
   "metadata": {},
   "outputs": [],
   "source": []
  },
  {
   "cell_type": "code",
   "execution_count": null,
   "id": "aeb014d3",
   "metadata": {},
   "outputs": [],
   "source": []
  },
  {
   "cell_type": "code",
   "execution_count": null,
   "id": "9a3a1f3d",
   "metadata": {},
   "outputs": [],
   "source": []
  },
  {
   "cell_type": "code",
   "execution_count": null,
   "id": "dad35290",
   "metadata": {},
   "outputs": [],
   "source": []
  }
 ],
 "metadata": {
  "kernelspec": {
   "display_name": "Python 3 (ipykernel)",
   "language": "python",
   "name": "python3"
  },
  "language_info": {
   "codemirror_mode": {
    "name": "ipython",
    "version": 3
   },
   "file_extension": ".py",
   "mimetype": "text/x-python",
   "name": "python",
   "nbconvert_exporter": "python",
   "pygments_lexer": "ipython3",
   "version": "3.11.3"
  }
 },
 "nbformat": 4,
 "nbformat_minor": 5
}
