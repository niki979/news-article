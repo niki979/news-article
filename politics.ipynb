{
 "cells": [
  {
   "cell_type": "code",
   "execution_count": 1,
   "id": "51337d55",
   "metadata": {},
   "outputs": [],
   "source": [
    "import requests\n",
    "from bs4 import BeautifulSoup\n",
    "import csv"
   ]
  },
  {
   "cell_type": "code",
   "execution_count": 2,
   "id": "8d1b5a1e",
   "metadata": {},
   "outputs": [],
   "source": [
    "rows=[[\"title\",\"article\",\"category\"]]"
   ]
  },
  {
   "cell_type": "code",
   "execution_count": 3,
   "id": "0fc8e48e",
   "metadata": {},
   "outputs": [],
   "source": [
    "URL = \"https://www.inshorts.com/en/read/politics\"\n",
    "r = requests.get(URL)\n",
    "  \n",
    "soup = BeautifulSoup(r.content, 'html.parser')\n",
    "#print(soup)\n",
    "news = soup.find_all(\"div\", class_=\"news-card z-depth-1\")\n",
    "for i in news:\n",
    "    #print(i)\n",
    "    title=i.find(\"div\", class_=\"news-card-title news-right-box\")\n",
    "    #print(title.text)\n",
    "    article=i.find(\"div\", itemprop=\"articleBody\")\n",
    "    #print(article.text)\n",
    "    #print()\n",
    "    row=[title.text,article.text,\"Politics\"]\n",
    "    rows.append(row)"
   ]
  },
  {
   "cell_type": "code",
   "execution_count": 4,
   "id": "f2c0c572",
   "metadata": {},
   "outputs": [],
   "source": [
    "URL = \"https://www.news18.com/politics/\"\n",
    "r = requests.get(URL)\n",
    "  \n",
    "soup = BeautifulSoup(r.content, 'html.parser')\n",
    "#print(soup)\n",
    "news = soup.find_all(\"div\", class_=\"jsx-3621759782 blog_list_row\")\n",
    "for i in news:\n",
    "    title=i.find(\"h4\",class_=\"jsx-3621759782\").text\n",
    "    article=\"\"\n",
    "    row=[title,article,\"Politics\"]\n",
    "    rows.append(row)"
   ]
  },
  {
   "cell_type": "code",
   "execution_count": 5,
   "id": "f0cb61d4",
   "metadata": {},
   "outputs": [],
   "source": [
    "URL = \"https://www.moneycontrol.com/news/politics/\"\n",
    "r = requests.get(URL)\n",
    "  \n",
    "soup = BeautifulSoup(r.content, 'html.parser')\n",
    "#print(soup)\n",
    "\n",
    "news = soup.find_all(\"li\", class_=\"clearfix\")\n",
    "for i in news:\n",
    "    title=i.find(\"h2\").text\n",
    "    article=i.find(\"p\").text\n",
    "    row=[title,article,\"Politics\"]\n",
    "    rows.append(row)\n"
   ]
  },
  {
   "cell_type": "code",
   "execution_count": 6,
   "id": "3c148e68",
   "metadata": {},
   "outputs": [],
   "source": [
    "URL = \"https://www.livemint.com/politics\"\n",
    "r = requests.get(URL)\n",
    "  \n",
    "soup = BeautifulSoup(r.content, 'html.parser')\n",
    "#print(soup)\n",
    "news = soup.find_all(\"div\", class_=\"listtostory clearfix\")\n",
    "for i in news:\n",
    "    title=i.find(\"h2\",class_=\"headline\").text\n",
    "    article=\"\"\n",
    "    row=[title,article,\"Politics\"]\n",
    "    rows.append(row)\n"
   ]
  },
  {
   "cell_type": "code",
   "execution_count": 7,
   "id": "7a8cdb0a",
   "metadata": {},
   "outputs": [
    {
     "data": {
      "text/plain": [
       "(44, 3)"
      ]
     },
     "execution_count": 7,
     "metadata": {},
     "output_type": "execute_result"
    }
   ],
   "source": [
    "with open('politics.csv', 'a', newline='',encoding='utf-8') as file:\n",
    "     writer = csv.writer(file)\n",
    "     writer.writerows(rows)\n",
    "    \n",
    "import pandas as pd\n",
    "df=pd.read_csv(\"politics.csv\")\n",
    "df.head()\n",
    "df.shape"
   ]
  },
  {
   "cell_type": "code",
   "execution_count": 8,
   "id": "c3485a40",
   "metadata": {},
   "outputs": [
    {
     "data": {
      "text/html": [
       "<div>\n",
       "<style scoped>\n",
       "    .dataframe tbody tr th:only-of-type {\n",
       "        vertical-align: middle;\n",
       "    }\n",
       "\n",
       "    .dataframe tbody tr th {\n",
       "        vertical-align: top;\n",
       "    }\n",
       "\n",
       "    .dataframe thead th {\n",
       "        text-align: right;\n",
       "    }\n",
       "</style>\n",
       "<table border=\"1\" class=\"dataframe\">\n",
       "  <thead>\n",
       "    <tr style=\"text-align: right;\">\n",
       "      <th></th>\n",
       "      <th>title</th>\n",
       "      <th>article</th>\n",
       "      <th>category</th>\n",
       "    </tr>\n",
       "  </thead>\n",
       "  <tbody>\n",
       "    <tr>\n",
       "      <th>0</th>\n",
       "      <td>Construction workers to get benefits under we...</td>\n",
       "      <td>The benefits under the schemes would be provid...</td>\n",
       "      <td>Politics</td>\n",
       "    </tr>\n",
       "    <tr>\n",
       "      <th>1</th>\n",
       "      <td>Cultural heritage both pillar of past and pat...</td>\n",
       "      <td>Addressing ministers and other delegates at th...</td>\n",
       "      <td>Politics</td>\n",
       "    </tr>\n",
       "    <tr>\n",
       "      <th>2</th>\n",
       "      <td>Rajasthan government sanctions Rs 265 crore f...</td>\n",
       "      <td>With this approval, 15 works related to the Ra...</td>\n",
       "      <td>Politics</td>\n",
       "    </tr>\n",
       "    <tr>\n",
       "      <th>3</th>\n",
       "      <td>Excitement generated by Chandrayaan-3 success...</td>\n",
       "      <td>Addressing a function organised at the airport...</td>\n",
       "      <td>Politics</td>\n",
       "    </tr>\n",
       "    <tr>\n",
       "      <th>4</th>\n",
       "      <td>President's rule can be imposed in Punjab, Go...</td>\n",
       "      <td>Punjab Governor Purohit said not furnishing th...</td>\n",
       "      <td>Politics</td>\n",
       "    </tr>\n",
       "    <tr>\n",
       "      <th>5</th>\n",
       "      <td>PM-EAC's Shamika Ravi rejects Moody's remarks...</td>\n",
       "      <td>Speaking at Moneycontrol's Policy Next summit,...</td>\n",
       "      <td>Politics</td>\n",
       "    </tr>\n",
       "    <tr>\n",
       "      <th>6</th>\n",
       "      <td>President's rule can be imposed in Punjab, Go...</td>\n",
       "      <td>In his latest communication to Mann, Governor ...</td>\n",
       "      <td>Politics</td>\n",
       "    </tr>\n",
       "    <tr>\n",
       "      <th>7</th>\n",
       "      <td>Political space finally opens for Rajini in T...</td>\n",
       "      <td>AIADMK’s decline in Tamil Nadu follows percept...</td>\n",
       "      <td>Politics</td>\n",
       "    </tr>\n",
       "    <tr>\n",
       "      <th>8</th>\n",
       "      <td>Live: Modi first Indian PM to visit Greece in...</td>\n",
       "      <td>PM Modi and Prime Minister of Greece Kyriakos ...</td>\n",
       "      <td>Politics</td>\n",
       "    </tr>\n",
       "    <tr>\n",
       "      <th>9</th>\n",
       "      <td>West Bengal govt should implement AB-PMJAY at...</td>\n",
       "      <td>The central government under the leadership of...</td>\n",
       "      <td>Politics</td>\n",
       "    </tr>\n",
       "  </tbody>\n",
       "</table>\n",
       "</div>"
      ],
      "text/plain": [
       "                                               title  \\\n",
       "0   Construction workers to get benefits under we...   \n",
       "1   Cultural heritage both pillar of past and pat...   \n",
       "2   Rajasthan government sanctions Rs 265 crore f...   \n",
       "3   Excitement generated by Chandrayaan-3 success...   \n",
       "4   President's rule can be imposed in Punjab, Go...   \n",
       "5   PM-EAC's Shamika Ravi rejects Moody's remarks...   \n",
       "6   President's rule can be imposed in Punjab, Go...   \n",
       "7   Political space finally opens for Rajini in T...   \n",
       "8   Live: Modi first Indian PM to visit Greece in...   \n",
       "9   West Bengal govt should implement AB-PMJAY at...   \n",
       "\n",
       "                                             article  category  \n",
       "0  The benefits under the schemes would be provid...  Politics  \n",
       "1  Addressing ministers and other delegates at th...  Politics  \n",
       "2  With this approval, 15 works related to the Ra...  Politics  \n",
       "3  Addressing a function organised at the airport...  Politics  \n",
       "4  Punjab Governor Purohit said not furnishing th...  Politics  \n",
       "5  Speaking at Moneycontrol's Policy Next summit,...  Politics  \n",
       "6  In his latest communication to Mann, Governor ...  Politics  \n",
       "7  AIADMK’s decline in Tamil Nadu follows percept...  Politics  \n",
       "8  PM Modi and Prime Minister of Greece Kyriakos ...  Politics  \n",
       "9  The central government under the leadership of...  Politics  "
      ]
     },
     "execution_count": 8,
     "metadata": {},
     "output_type": "execute_result"
    }
   ],
   "source": [
    "import pandas as pd\n",
    "df=pd.read_csv(\"politics.csv\")\n",
    "df.head(10)"
   ]
  },
  {
   "cell_type": "code",
   "execution_count": null,
   "id": "0e15f318",
   "metadata": {},
   "outputs": [],
   "source": []
  }
 ],
 "metadata": {
  "kernelspec": {
   "display_name": "Python 3 (ipykernel)",
   "language": "python",
   "name": "python3"
  },
  "language_info": {
   "codemirror_mode": {
    "name": "ipython",
    "version": 3
   },
   "file_extension": ".py",
   "mimetype": "text/x-python",
   "name": "python",
   "nbconvert_exporter": "python",
   "pygments_lexer": "ipython3",
   "version": "3.11.3"
  }
 },
 "nbformat": 4,
 "nbformat_minor": 5
}
