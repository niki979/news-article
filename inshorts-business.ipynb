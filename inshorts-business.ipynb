{
 "cells": [
  {
   "cell_type": "code",
   "execution_count": 2,
   "id": "7cf47476",
   "metadata": {},
   "outputs": [],
   "source": [
    "import requests\n",
    "from bs4 import BeautifulSoup\n",
    "import csv\n",
    "from selenium import webdriver\n",
    "from selenium.webdriver.common.by import By\n",
    "from selenium.webdriver.support.ui import WebDriverWait\n",
    "from selenium.webdriver.support import expected_conditions as EC\n",
    "from selenium.common.exceptions import TimeoutException\n",
    "from selenium.webdriver.edge.service import Service\n",
    "import time"
   ]
  },
  {
   "cell_type": "code",
   "execution_count": 3,
   "id": "fb3a3469",
   "metadata": {},
   "outputs": [],
   "source": [
    "edge_service = Service('C:/Users/Dell/Downloads/edgedriver_win64/msedgedriver.exe')\n",
    "\n",
    "# Start the service\n",
    "edge_service.start()\n",
    "\n",
    "# Create the Microsoft Edge webdriver\n",
    "driver = webdriver.Edge(service=edge_service)"
   ]
  },
  {
   "cell_type": "code",
   "execution_count": 4,
   "id": "7399b619",
   "metadata": {},
   "outputs": [],
   "source": [
    "driver.get('https://inshorts.com/en/read/business')\n",
    "\n",
    "old_height = driver.execute_script('return document.body.scrollHeight')\n",
    "\n",
    "while True:\n",
    "    button_element = driver.find_element(By.CLASS_NAME, 'QMXJlc3R5MMJjDGSV4Jd')\n",
    "    button_element = WebDriverWait(driver, 10).until(\n",
    "    EC.element_to_be_clickable((By.CSS_SELECTOR, 'div.QMXJlc3R5MMJjDGSV4Jd')))\n",
    "    button_element.click()\n",
    "    time.sleep(3)\n",
    "\n",
    "    \n",
    "    new_height = driver.execute_script('return document.body.scrollHeight')\n",
    "        \n",
    "    if new_height == old_height:\n",
    "        break\n",
    "    old_height = new_height\n"
   ]
  },
  {
   "cell_type": "code",
   "execution_count": 5,
   "id": "9f71be88",
   "metadata": {},
   "outputs": [],
   "source": [
    "rows=[[\"title\",\"article\",\"category\"]]"
   ]
  },
  {
   "cell_type": "code",
   "execution_count": 6,
   "id": "6334f90f",
   "metadata": {},
   "outputs": [],
   "source": [
    "soup = BeautifulSoup(driver.page_source, 'html.parser')\n",
    "#print(soup.prettify())"
   ]
  },
  {
   "cell_type": "code",
   "execution_count": 7,
   "id": "fe9c30e9",
   "metadata": {},
   "outputs": [],
   "source": [
    "news = soup.find_all(\"div\", class_=\"VdsPqrmJYY7F2MNUKOwQ\")\n",
    "#print(news)\n",
    "for i in news:\n",
    "    title=i.find(\"span\", class_=\"S2DdZEgzkqC9bYeTJUGw\").text\n",
    "    #print(title)\n",
    "    article=i.find(\"div\",class_=\"Hxtmf9GvkV8Ti6V0GUSn\").text\n",
    "    #print(article)\n",
    "    row=[title,article,'Business']\n",
    "    rows.append(row)\n"
   ]
  },
  {
   "cell_type": "code",
   "execution_count": 8,
   "id": "2b87d91c",
   "metadata": {},
   "outputs": [],
   "source": [
    "with open('business2.csv', 'w', newline='',encoding='utf-8') as file:\n",
    "     writer = csv.writer(file)\n",
    "     writer.writerows(rows)"
   ]
  },
  {
   "cell_type": "code",
   "execution_count": 9,
   "id": "016df0fb",
   "metadata": {},
   "outputs": [
    {
     "data": {
      "text/plain": [
       "(189, 3)"
      ]
     },
     "execution_count": 9,
     "metadata": {},
     "output_type": "execute_result"
    }
   ],
   "source": [
    "import pandas as pd\n",
    "df=pd.read_csv(\"business2.csv\")\n",
    "df.head()\n",
    "df.shape"
   ]
  },
  {
   "cell_type": "code",
   "execution_count": null,
   "id": "a615cb24",
   "metadata": {},
   "outputs": [],
   "source": []
  }
 ],
 "metadata": {
  "kernelspec": {
   "display_name": "Python 3 (ipykernel)",
   "language": "python",
   "name": "python3"
  },
  "language_info": {
   "codemirror_mode": {
    "name": "ipython",
    "version": 3
   },
   "file_extension": ".py",
   "mimetype": "text/x-python",
   "name": "python",
   "nbconvert_exporter": "python",
   "pygments_lexer": "ipython3",
   "version": "3.11.3"
  }
 },
 "nbformat": 4,
 "nbformat_minor": 5
}
